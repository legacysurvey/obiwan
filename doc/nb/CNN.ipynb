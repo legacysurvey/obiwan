{
 "cells": [
  {
   "cell_type": "code",
   "execution_count": 68,
   "metadata": {},
   "outputs": [
    {
     "name": "stderr",
     "output_type": "stream",
     "text": [
      "/Users/kaylan1/miniconda3/envs/mlbook/lib/python3.6/importlib/_bootstrap.py:205: RuntimeWarning: compiletime version 3.5 of module 'tensorflow.python.framework.fast_tensor_util' does not match runtime version 3.6\n",
      "  return f(*args, **kwds)\n"
     ]
    },
    {
     "name": "stdout",
     "output_type": "stream",
     "text": [
      "The autoreload extension is already loaded. To reload it, use:\n",
      "  %reload_ext autoreload\n"
     ]
    }
   ],
   "source": [
    "import numpy as np\n",
    "import os\n",
    "import pandas as pd\n",
    "import h5py\n",
    "\n",
    "from astrometry.util.fits import fits_table, merge_tables\n",
    "\n",
    "# To plot pretty figures\n",
    "%matplotlib inline\n",
    "#%matplotlib notebook\n",
    "\n",
    "# to make this notebook's output stable across runs\n",
    "def reset_graph(seed=7):\n",
    "    tf.reset_default_graph()\n",
    "    tf.set_random_seed(seed)\n",
    "    np.random.seed(seed)\n",
    "\n",
    "\n",
    "import matplotlib\n",
    "import matplotlib.pyplot as plt\n",
    "plt.rcParams['axes.labelsize'] = 14\n",
    "plt.rcParams['xtick.labelsize'] = 12\n",
    "plt.rcParams['ytick.labelsize'] = 12\n",
    "\n",
    "import tensorflow as tf\n",
    "\n",
    "%load_ext autoreload\n",
    "%autoreload 2"
   ]
  },
  {
   "cell_type": "code",
   "execution_count": 69,
   "metadata": {},
   "outputs": [],
   "source": [
    "from obiwan.qa.visual import plotImage"
   ]
  },
  {
   "cell_type": "code",
   "execution_count": 70,
   "metadata": {},
   "outputs": [
    {
     "name": "stdout",
     "output_type": "stream",
     "text": [
      "876 2547\n"
     ]
    }
   ],
   "source": [
    "f_real= h5py.File(os.path.join(os.environ['HOME'],'DOWNLOADS',\n",
    "                    'dr5_hdf5/hdf5/116/1165p107/img_ivar_grz.hdf5'),\n",
    "                    'r')\n",
    "f_fake= h5py.File(os.path.join(os.environ['HOME'],'DOWNLOADS',\n",
    "                    'elg_dr5_coadds/hdf5/121/1211p060/img_ivar_grz.hdf5'),\n",
    "                    'r')\n",
    "\n",
    "print(len(f_real.keys()),len(f_fake.keys()))"
   ]
  },
  {
   "cell_type": "code",
   "execution_count": 71,
   "metadata": {},
   "outputs": [
    {
     "data": {
      "text/plain": [
       "(64, 64, 6)"
      ]
     },
     "execution_count": 71,
     "metadata": {},
     "output_type": "execute_result"
    }
   ],
   "source": [
    "def get_data(f,num=128):\n",
    "    return [np.stack([f[key+'/img'],f[key+'/ivar']],axis=-1).reshape((64,64,6))\n",
    "            for key in list(f.keys())[:num]]\n",
    "\n",
    "def get_data_imgonly(f,num=128):\n",
    "    return [[f[key+'/img'].reshape((64,64,3))\n",
    "            for key in list(f.keys())[:num]]\n",
    "\n",
    "images_real= get_data(f_real)\n",
    "images_real[0].shape"
   ]
  },
  {
   "cell_type": "code",
   "execution_count": 72,
   "metadata": {},
   "outputs": [
    {
     "data": {
      "text/plain": [
       "(24576, (64, 64, 6), 24576)"
      ]
     },
     "execution_count": 72,
     "metadata": {},
     "output_type": "execute_result"
    }
   ],
   "source": [
    "images_real[0].size,images_real[0].shape,64**2*6"
   ]
  },
  {
   "cell_type": "markdown",
   "metadata": {},
   "source": [
    "# Adapted from https://github.com/ageron/handson-ml"
   ]
  },
  {
   "cell_type": "code",
   "execution_count": 73,
   "metadata": {},
   "outputs": [],
   "source": [
    "# Design:\n",
    "# input, 3x(conv + avg pool), 2x(fc)\n",
    "\n",
    "height,width,channels = images_real[0].shape\n",
    "n_inputs = images_real[0].size\n",
    "\n",
    "reset_graph()\n",
    "\n",
    "conv_kwargs= dict(strides=1,\n",
    "                  padding='SAME',\n",
    "                  activation=tf.nn.relu)\n",
    "pool_kwargs= dict(ksize= [1,2,2,1],\n",
    "                  strides=[1,2,2,1],\n",
    "                  padding='VALID')\n",
    "\n",
    "with tf.name_scope(\"inputs\"):\n",
    "    X = tf.placeholder(tf.float32, shape=[None, n_inputs], name=\"X\")\n",
    "    X_reshaped = tf.reshape(X, shape=[-1, height, width, channels])\n",
    "    y = tf.placeholder(tf.int32, shape=[None], name=\"y\")\n",
    "\n",
    "# 64x64\n",
    "with tf.name_scope(\"layer1\"):\n",
    "    conv1 = tf.layers.conv2d(X_reshaped, filters=32, kernel_size=7,\n",
    "                             **conv_kwargs)\n",
    "    pool1 = tf.nn.avg_pool(conv1, **pool_kwargs)\n",
    "\n",
    "# 32x32\n",
    "with tf.name_scope(\"layer2\"):\n",
    "    conv2 = tf.layers.conv2d(pool1, filters=64, kernel_size=7,\n",
    "                             **conv_kwargs)\n",
    "    pool2 = tf.nn.avg_pool(conv2, **pool_kwargs)\n",
    "\n",
    "# 16x16\n",
    "with tf.name_scope(\"layer3\"):\n",
    "    conv3 = tf.layers.conv2d(pool2, filters=128, kernel_size=7,\n",
    "                             **conv_kwargs)\n",
    "    pool3 = tf.nn.avg_pool(conv3, **pool_kwargs)\n",
    "    # next is fc\n",
    "    pool3_flat = tf.reshape(pool3, shape=[-1, 128 * 16 * 16])\n",
    "\n",
    "\n",
    "with tf.name_scope(\"fc\"):\n",
    "    fc = tf.layers.dense(pool3_flat, 128, activation=tf.nn.relu, name=\"fc\")\n",
    "\n",
    "with tf.name_scope(\"output\"):\n",
    "    logits = tf.layers.dense(fc, 2, name=\"output\") # classes\n",
    "    Y_proba = tf.nn.softmax(logits, name=\"Y_proba\")\n",
    "\n",
    "with tf.name_scope(\"train\"):\n",
    "    xentropy = tf.nn.sparse_softmax_cross_entropy_with_logits(logits=logits, labels=y)\n",
    "    loss = tf.reduce_mean(xentropy)\n",
    "    optimizer = tf.train.AdamOptimizer()\n",
    "    training_op = optimizer.minimize(loss)\n",
    "\n",
    "with tf.name_scope(\"eval\"):\n",
    "    correct = tf.nn.in_top_k(logits, y, 1)\n",
    "    accuracy = tf.reduce_mean(tf.cast(correct, tf.float32))\n",
    "\n",
    "with tf.name_scope(\"init_and_save\"):\n",
    "    init = tf.global_variables_initializer()\n",
    "    saver = tf.train.Saver()"
   ]
  },
  {
   "cell_type": "code",
   "execution_count": null,
   "metadata": {
    "collapsed": true
   },
   "outputs": [],
   "source": [
    "n_epochs = 8\n",
    "batch_size = 32\n",
    "\n",
    "with tf.Session() as sess:\n",
    "    init.run()\n",
    "    for epoch in range(n_epochs):\n",
    "        for iteration in range(mnist.train.num_examples // batch_size):\n",
    "            X_batch, y_batch = mnist.train.next_batch(batch_size)\n",
    "            sess.run(training_op, feed_dict={X: X_batch, y: y_batch})\n",
    "        acc_train = accuracy.eval(feed_dict={X: X_batch, y: y_batch})\n",
    "        print(epoch, \"Train accuracy:\", acc_train)\n",
    "\n",
    "        save_path = saver.save(sess, \"./my_mnist_model\")"
   ]
  },
  {
   "cell_type": "code",
   "execution_count": null,
   "metadata": {
    "collapsed": true
   },
   "outputs": [],
   "source": []
  },
  {
   "cell_type": "code",
   "execution_count": null,
   "metadata": {
    "collapsed": true
   },
   "outputs": [],
   "source": []
  }
 ],
 "metadata": {
  "kernelspec": {
   "display_name": "Python 3",
   "language": "python",
   "name": "python3"
  },
  "language_info": {
   "codemirror_mode": {
    "name": "ipython",
    "version": 3
   },
   "file_extension": ".py",
   "mimetype": "text/x-python",
   "name": "python",
   "nbconvert_exporter": "python",
   "pygments_lexer": "ipython3",
   "version": "3.6.2"
  }
 },
 "nbformat": 4,
 "nbformat_minor": 2
}
