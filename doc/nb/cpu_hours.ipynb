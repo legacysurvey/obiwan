{
 "cells": [
  {
   "cell_type": "code",
   "execution_count": 28,
   "metadata": {
    "collapsed": true
   },
   "outputs": [],
   "source": [
    "import pandas as pd\n",
    "import os\n",
    "import numpy as np\n",
    "import matplotlib.pyplot as plt\n",
    "import seaborn as sns\n",
    "\n",
    "\n",
    "%matplotlib inline"
   ]
  },
  {
   "cell_type": "code",
   "execution_count": 4,
   "metadata": {
    "collapsed": true
   },
   "outputs": [],
   "source": [
    "a=pd.read_csv(os.path.join(os.environ[\"HOME\"],'Downloads','my_sacct.txt'),\n",
    "              delim_whitespace=True,header=None,\n",
    "              names=['slurm_id','status','num_nodes','time'])\n",
    "\n"
   ]
  },
  {
   "cell_type": "code",
   "execution_count": 5,
   "metadata": {
    "collapsed": true
   },
   "outputs": [],
   "source": [
    "for i,name in zip([0,1,2],['multi_hr','min','sec']):\n",
    "    a[name]= a['time'].str.split(':').str[i]"
   ]
  },
  {
   "cell_type": "code",
   "execution_count": null,
   "metadata": {
    "collapsed": true
   },
   "outputs": [],
   "source": []
  },
  {
   "cell_type": "code",
   "execution_count": 6,
   "metadata": {},
   "outputs": [
    {
     "data": {
      "text/plain": [
       "1    295\n",
       "2      1\n",
       "Name: multi_hr, dtype: int64"
      ]
     },
     "execution_count": 6,
     "metadata": {},
     "output_type": "execute_result"
    }
   ],
   "source": [
    "a['multi_hr'].str.split('-').str.len().value_counts()"
   ]
  },
  {
   "cell_type": "code",
   "execution_count": 8,
   "metadata": {},
   "outputs": [
    {
     "data": {
      "text/plain": [
       "(196    1-00\n",
       " Name: multi_hr, dtype: object, '00')"
      ]
     },
     "execution_count": 8,
     "metadata": {},
     "output_type": "execute_result"
    }
   ],
   "source": [
    "hasExtra24= a['multi_hr'].str.split('-').str.len() > 1\n",
    "a.loc[hasExtra24,'multi_hr'], a.loc[~hasExtra24,'multi_hr'].iloc[0]"
   ]
  },
  {
   "cell_type": "code",
   "execution_count": 15,
   "metadata": {},
   "outputs": [
    {
     "data": {
      "text/plain": [
       "0.0     295\n",
       "24.0      1\n",
       "Name: extra_hrs, dtype: int64"
      ]
     },
     "execution_count": 15,
     "metadata": {},
     "output_type": "execute_result"
    }
   ],
   "source": [
    "a['extra_hrs']= np.zeros(a.shape[0])\n",
    "a.loc[hasExtra24,'extra_hrs']= 24*a.loc[hasExtra24,'multi_hr'].str.split('-').str[0].astype(float)\n",
    "a['extra_hrs'].value_counts()"
   ]
  },
  {
   "cell_type": "code",
   "execution_count": 16,
   "metadata": {
    "collapsed": true
   },
   "outputs": [],
   "source": [
    "a['hrs']= np.zeros(a.shape[0])\n",
    "# No 01-05, just 05\n",
    "a.loc[~hasExtra24,'hrs']= a.loc[~hasExtra24,'multi_hr'].astype(float)\n",
    "# When 01-05, just take 05\n",
    "a.loc[hasExtra24,'hrs']= a.loc[hasExtra24,'multi_hr'].str.split('-').str[1].astype(float)\n",
    "a.loc[:,'hrs'] +=  a['extra_hrs']"
   ]
  },
  {
   "cell_type": "code",
   "execution_count": 18,
   "metadata": {},
   "outputs": [
    {
     "data": {
      "text/plain": [
       "(196    24.0\n",
       " Name: hrs, dtype: float64, 18.0)"
      ]
     },
     "execution_count": 18,
     "metadata": {},
     "output_type": "execute_result"
    }
   ],
   "source": [
    "a.loc[hasExtra24,'hrs'], a.loc[~hasExtra24,'hrs'].max()"
   ]
  },
  {
   "cell_type": "code",
   "execution_count": 21,
   "metadata": {
    "collapsed": true
   },
   "outputs": [],
   "source": [
    "for col in ['min','sec']:\n",
    "    a.loc[:,col]= a.loc[:,col].astype(float)"
   ]
  },
  {
   "cell_type": "code",
   "execution_count": 37,
   "metadata": {},
   "outputs": [
    {
     "name": "stdout",
     "output_type": "stream",
     "text": [
      "total cpu hours (M): 0.259007426667\n",
      "total MPP hours (M): 0.647518566667\n"
     ]
    }
   ],
   "source": [
    "def cpu_hrs(nodes,h,m,s, mpp=False,cori=True):\n",
    "    \"\"\"\n",
    "    Args:\n",
    "        nodes: number of nodes\n",
    "        h,m,s: hours,min,sec\n",
    "    \"\"\"\n",
    "    cores_per_node=32\n",
    "    if not cori:\n",
    "        cores_per_node=24\n",
    "    mpp_factor= 1.\n",
    "    if mpp:\n",
    "        mpp_factor= 2.5\n",
    "    \n",
    "    return mpp_factor * cores_per_node * nodes * h + m/60. + s/3600.\n",
    "\n",
    "a['cpu_hrs']= cpu_hrs(a['num_nodes'],a['hrs'],a['min'],a['sec'])\n",
    "print('total cpu hours (M):',a['cpu_hrs'].sum()/1e6)\n",
    "print('total MPP hours (M):',a['cpu_hrs'].sum()/1e6*2.5)"
   ]
  },
  {
   "cell_type": "code",
   "execution_count": 38,
   "metadata": {},
   "outputs": [
    {
     "data": {
      "image/png": "[encoded data removed]",
      "text/plain": [
       "<matplotlib.figure.Figure at 0x119ea6898>"
      ]
     },
     "metadata": {},
     "output_type": "display_data"
    }
   ],
   "source": [
    "fig,ax= plt.subplots(2,2,figsize=(6,6))\n",
    "names=['num_nodes','hrs','min','sec']\n",
    "i=0\n",
    "for row in range(2):\n",
    "    for col in range(2):\n",
    "        sns.distplot(a[names[i]],ax=ax[row,col])\n",
    "        i+=1"
   ]
  },
  {
   "cell_type": "code",
   "execution_count": null,
   "metadata": {
    "collapsed": true
   },
   "outputs": [],
   "source": []
  }
 ],
 "metadata": {
  "kernelspec": {
   "display_name": "Python 3",
   "language": "python",
   "name": "python3"
  },
  "language_info": {
   "codemirror_mode": {
    "name": "ipython",
    "version": 3
   },
   "file_extension": ".py",
   "mimetype": "text/x-python",
   "name": "python",
   "nbconvert_exporter": "python",
   "pygments_lexer": "ipython3",
   "version": "3.6.2"
  }
 },
 "nbformat": 4,
 "nbformat_minor": 2
}
