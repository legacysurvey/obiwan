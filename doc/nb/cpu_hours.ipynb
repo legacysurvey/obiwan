{
 "cells": [
  {
   "cell_type": "code",
   "execution_count": 1,
   "metadata": {
    "collapsed": true
   },
   "outputs": [],
   "source": [
    "import pandas as pd\n",
    "import os\n",
    "import numpy as np\n",
    "import matplotlib.pyplot as plt\n",
    "import seaborn as sns\n",
    "\n",
    "\n",
    "%matplotlib inline"
   ]
  },
  {
   "cell_type": "markdown",
   "metadata": {},
   "source": [
    "# time vs. Tractor stage"
   ]
  },
  {
   "cell_type": "code",
   "execution_count": 54,
   "metadata": {},
   "outputs": [
    {
     "data": {
      "text/html": [
       "<div>\n",
       "<style>\n",
       "    .dataframe thead tr:only-child th {\n",
       "        text-align: right;\n",
       "    }\n",
       "\n",
       "    .dataframe thead th {\n",
       "        text-align: left;\n",
       "    }\n",
       "\n",
       "    .dataframe tbody tr th {\n",
       "        vertical-align: top;\n",
       "    }\n",
       "</style>\n",
       "<table border=\"1\" class=\"dataframe\">\n",
       "  <thead>\n",
       "    <tr style=\"text-align: right;\">\n",
       "      <th></th>\n",
       "      <th>nobj</th>\n",
       "      <th>brick</th>\n",
       "      <th>rsdir</th>\n",
       "      <th>frac_injected</th>\n",
       "      <th>tims</th>\n",
       "      <th>mask_junk</th>\n",
       "      <th>srcs</th>\n",
       "      <th>fitblobs</th>\n",
       "      <th>coadds</th>\n",
       "      <th>writecat</th>\n",
       "    </tr>\n",
       "  </thead>\n",
       "  <tbody>\n",
       "    <tr>\n",
       "      <th>0</th>\n",
       "      <td>1000</td>\n",
       "      <td>1341p015</td>\n",
       "      <td>0</td>\n",
       "      <td>0.996</td>\n",
       "      <td>85.7</td>\n",
       "      <td>13.7</td>\n",
       "      <td>80.2</td>\n",
       "      <td>2467.5</td>\n",
       "      <td>260.4</td>\n",
       "      <td>0.5</td>\n",
       "    </tr>\n",
       "    <tr>\n",
       "      <th>1</th>\n",
       "      <td>1000</td>\n",
       "      <td>1341p015</td>\n",
       "      <td>1000</td>\n",
       "      <td>0.997</td>\n",
       "      <td>88.3</td>\n",
       "      <td>14.8</td>\n",
       "      <td>83.9</td>\n",
       "      <td>2580.5</td>\n",
       "      <td>272.2</td>\n",
       "      <td>0.6</td>\n",
       "    </tr>\n",
       "    <tr>\n",
       "      <th>2</th>\n",
       "      <td>1000</td>\n",
       "      <td>1423p167</td>\n",
       "      <td>0</td>\n",
       "      <td>0.996</td>\n",
       "      <td>119.5</td>\n",
       "      <td>17.8</td>\n",
       "      <td>89.7</td>\n",
       "      <td>4127.7</td>\n",
       "      <td>315.2</td>\n",
       "      <td>0.6</td>\n",
       "    </tr>\n",
       "    <tr>\n",
       "      <th>3</th>\n",
       "      <td>1000</td>\n",
       "      <td>1423p167</td>\n",
       "      <td>1000</td>\n",
       "      <td>0.996</td>\n",
       "      <td>119.5</td>\n",
       "      <td>17.4</td>\n",
       "      <td>89.1</td>\n",
       "      <td>3765.2</td>\n",
       "      <td>315.9</td>\n",
       "      <td>0.9</td>\n",
       "    </tr>\n",
       "    <tr>\n",
       "      <th>4</th>\n",
       "      <td>1000</td>\n",
       "      <td>1416p320</td>\n",
       "      <td>0</td>\n",
       "      <td>0.995</td>\n",
       "      <td>101.2</td>\n",
       "      <td>15.5</td>\n",
       "      <td>83.0</td>\n",
       "      <td>3528.3</td>\n",
       "      <td>325.7</td>\n",
       "      <td>1.0</td>\n",
       "    </tr>\n",
       "  </tbody>\n",
       "</table>\n",
       "</div>"
      ],
      "text/plain": [
       "   nobj     brick  rsdir  frac_injected   tims  mask_junk  srcs  fitblobs  \\\n",
       "0  1000  1341p015      0          0.996   85.7       13.7  80.2    2467.5   \n",
       "1  1000  1341p015   1000          0.997   88.3       14.8  83.9    2580.5   \n",
       "2  1000  1423p167      0          0.996  119.5       17.8  89.7    4127.7   \n",
       "3  1000  1423p167   1000          0.996  119.5       17.4  89.1    3765.2   \n",
       "4  1000  1416p320      0          0.995  101.2       15.5  83.0    3528.3   \n",
       "\n",
       "   coadds  writecat  \n",
       "0   260.4       0.5  \n",
       "1   272.2       0.6  \n",
       "2   315.2       0.6  \n",
       "3   315.9       0.9  \n",
       "4   325.7       1.0  "
      ]
     },
     "execution_count": 54,
     "metadata": {},
     "output_type": "execute_result"
    }
   ],
   "source": [
    "df= pd.read_csv('/Users/kaylan1/Downloads/nobj_runs.txt',sep=' ')\n",
    "df.head()"
   ]
  },
  {
   "cell_type": "code",
   "execution_count": 55,
   "metadata": {},
   "outputs": [
    {
     "data": {
      "text/html": [
       "<div>\n",
       "<style>\n",
       "    .dataframe thead tr:only-child th {\n",
       "        text-align: right;\n",
       "    }\n",
       "\n",
       "    .dataframe thead th {\n",
       "        text-align: left;\n",
       "    }\n",
       "\n",
       "    .dataframe tbody tr th {\n",
       "        vertical-align: top;\n",
       "    }\n",
       "</style>\n",
       "<table border=\"1\" class=\"dataframe\">\n",
       "  <thead>\n",
       "    <tr style=\"text-align: right;\">\n",
       "      <th></th>\n",
       "      <th>nobj</th>\n",
       "      <th>rsdir</th>\n",
       "      <th>frac_injected</th>\n",
       "      <th>tims</th>\n",
       "      <th>mask_junk</th>\n",
       "      <th>srcs</th>\n",
       "      <th>fitblobs</th>\n",
       "      <th>coadds</th>\n",
       "      <th>writecat</th>\n",
       "    </tr>\n",
       "  </thead>\n",
       "  <tbody>\n",
       "    <tr>\n",
       "      <th>0</th>\n",
       "      <td>500</td>\n",
       "      <td>500</td>\n",
       "      <td>0.996000</td>\n",
       "      <td>88.092593</td>\n",
       "      <td>18.388889</td>\n",
       "      <td>91.711111</td>\n",
       "      <td>1911.592593</td>\n",
       "      <td>330.348148</td>\n",
       "      <td>0.429630</td>\n",
       "    </tr>\n",
       "    <tr>\n",
       "      <th>1</th>\n",
       "      <td>1000</td>\n",
       "      <td>500</td>\n",
       "      <td>0.995722</td>\n",
       "      <td>120.594444</td>\n",
       "      <td>18.600000</td>\n",
       "      <td>92.550000</td>\n",
       "      <td>4517.027778</td>\n",
       "      <td>337.855556</td>\n",
       "      <td>1.394444</td>\n",
       "    </tr>\n",
       "    <tr>\n",
       "      <th>2</th>\n",
       "      <td>1500</td>\n",
       "      <td>0</td>\n",
       "      <td>0.997333</td>\n",
       "      <td>162.677778</td>\n",
       "      <td>18.955556</td>\n",
       "      <td>94.155556</td>\n",
       "      <td>6219.966667</td>\n",
       "      <td>353.400000</td>\n",
       "      <td>0.911111</td>\n",
       "    </tr>\n",
       "  </tbody>\n",
       "</table>\n",
       "</div>"
      ],
      "text/plain": [
       "   nobj  rsdir  frac_injected        tims  mask_junk       srcs     fitblobs  \\\n",
       "0   500    500       0.996000   88.092593  18.388889  91.711111  1911.592593   \n",
       "1  1000    500       0.995722  120.594444  18.600000  92.550000  4517.027778   \n",
       "2  1500      0       0.997333  162.677778  18.955556  94.155556  6219.966667   \n",
       "\n",
       "       coadds  writecat  \n",
       "0  330.348148  0.429630  \n",
       "1  337.855556  1.394444  \n",
       "2  353.400000  0.911111  "
      ]
     },
     "execution_count": 55,
     "metadata": {},
     "output_type": "execute_result"
    }
   ],
   "source": [
    "avg= df.groupby(['nobj']).agg(np.mean).reset_index()\n",
    "std= df.groupby(['nobj']).agg(np.std).reset_index()\n",
    "avg.head()"
   ]
  },
  {
   "cell_type": "code",
   "execution_count": 17,
   "metadata": {},
   "outputs": [
    {
     "data": {
      "text/plain": [
       "array([  1.34755313e+01,   3.47721521e+00,   7.73261491e+00,\n",
       "         1.10847632e+03,   4.63918790e+01,   6.68800005e-02])"
      ]
     },
     "execution_count": 17,
     "metadata": {},
     "output_type": "execute_result"
    }
   ],
   "source": [
    "std.loc[avg['nobj'] == nobj,STAGES].values[0]"
   ]
  },
  {
   "cell_type": "code",
   "execution_count": 24,
   "metadata": {},
   "outputs": [
    {
     "data": {
      "text/plain": [
       "array([1, 0, 1, 0, 1, 1, 1, 1, 0, 1])"
      ]
     },
     "execution_count": 24,
     "metadata": {},
     "output_type": "execute_result"
    }
   ],
   "source": [
    "np.random.seed(7)"
   ]
  },
  {
   "cell_type": "code",
   "execution_count": 56,
   "metadata": {},
   "outputs": [
    {
     "data": {
      "image/png": "[encoded data removed]",
      "text/plain": [
       "<matplotlib.figure.Figure at 0x112f92b38>"
      ]
     },
     "metadata": {},
     "output_type": "display_data"
    }
   ],
   "source": [
    "STAGES=['tims', 'mask_junk', 'srcs',\n",
    "        'fitblobs', 'coadds', 'writecat']\n",
    "\n",
    "import matplotlib as mpl\n",
    "fontsize= 15\n",
    "mpl.rcParams['axes.titlesize'] = fontsize\n",
    "mpl.rcParams['axes.labelsize']= fontsize\n",
    "mpl.rcParams['font.size']= fontsize\n",
    "\n",
    "fig,ax=plt.subplots()\n",
    "xvals= np.arange(len(STAGES))+1\n",
    "for nobj,jitter in zip([500,1000,1500],[-0.1,0,0.1]):\n",
    "    ax.errorbar(xvals+jitter, avg.loc[avg['nobj'] == nobj,STAGES].values[0]/60., \n",
    "                yerr= std.loc[avg['nobj'] == nobj,STAGES].values[0]/60.,\n",
    "                fmt='o',label='nobj=%d' % nobj,\n",
    "                lw=2,capsize=4,ms=5,ls='--')\n",
    "ax.legend() #loc='lower right',scatterpoints=1)\n",
    "ax.set_xticks(xvals)\n",
    "ax.set_xticklabels(STAGES,rotation=45, ha='right')\n",
    "ax.set_yscale('log')\n",
    "#ax.set_ylim([1e-3,1e2])\n",
    "xlab=ax.set_ylabel('Wall Time (min)')\n",
    "ylab=ax.set_xlabel('Tractor Stage')\n",
    "plt.savefig('time_per_stage_nobj.png', bbox_extra_artists=[xlab,ylab], \n",
    "            bbox_inches='tight',dpi=100)\n",
    "#plt.close()"
   ]
  },
  {
   "cell_type": "code",
   "execution_count": 57,
   "metadata": {},
   "outputs": [
    {
     "data": {
      "image/png": "[encoded data removed]",
      "text/plain": [
       "<matplotlib.figure.Figure at 0x11302e978>"
      ]
     },
     "metadata": {},
     "output_type": "display_data"
    }
   ],
   "source": [
    "# nobj=1500 gets 3x and 1.5x more work done than nobj=500 and 1000\n",
    "fig,ax=plt.subplots()\n",
    "xvals= np.arange(len(STAGES))+1\n",
    "for nobj,jitter in zip([500,1000,1500],[-0.1,0,0.1]):\n",
    "    factor= 1500./nobj/avg.loc[avg['nobj'] == nobj,'frac_injected'].values[0]\n",
    "    ax.errorbar(xvals+jitter, \n",
    "                avg.loc[avg['nobj'] == nobj,STAGES].values[0]/60.*factor, \n",
    "                yerr= std.loc[avg['nobj'] == nobj,STAGES].values[0]/60.*factor,\n",
    "                fmt='o',label='nobj=%d' % nobj,\n",
    "                lw=2,capsize=4,ms=5,ls='--')\n",
    "ax.legend() #loc='lower right',scatterpoints=1)\n",
    "ax.set_xticks(xvals)\n",
    "ax.set_xticklabels(STAGES,rotation=45, ha='right')\n",
    "ax.set_yscale('log')\n",
    "#ax.set_ylim([1e-3,1e2])\n",
    "xlab=ax.set_ylabel('Wall Time (min)')\n",
    "ylab=ax.set_xlabel('Tractor Stage')\n",
    "plt.savefig('time_per_stage_factor_nobj.png', bbox_extra_artists=[xlab,ylab], \n",
    "            bbox_inches='tight',dpi=100)\n",
    "#plt.close()"
   ]
  },
  {
   "cell_type": "markdown",
   "metadata": {},
   "source": [
    "# SLURM sacct "
   ]
  },
  {
   "cell_type": "code",
   "execution_count": 4,
   "metadata": {
    "collapsed": true
   },
   "outputs": [],
   "source": [
    "a=pd.read_csv(os.path.join(os.environ[\"HOME\"],'Downloads','my_sacct.txt'),\n",
    "              delim_whitespace=True,header=None,\n",
    "              names=['slurm_id','status','num_nodes','time'])\n",
    "\n"
   ]
  },
  {
   "cell_type": "code",
   "execution_count": 5,
   "metadata": {
    "collapsed": true
   },
   "outputs": [],
   "source": [
    "for i,name in zip([0,1,2],['multi_hr','min','sec']):\n",
    "    a[name]= a['time'].str.split(':').str[i]"
   ]
  },
  {
   "cell_type": "code",
   "execution_count": null,
   "metadata": {
    "collapsed": true
   },
   "outputs": [],
   "source": []
  },
  {
   "cell_type": "code",
   "execution_count": 6,
   "metadata": {},
   "outputs": [
    {
     "data": {
      "text/plain": [
       "1    295\n",
       "2      1\n",
       "Name: multi_hr, dtype: int64"
      ]
     },
     "execution_count": 6,
     "metadata": {},
     "output_type": "execute_result"
    }
   ],
   "source": [
    "a['multi_hr'].str.split('-').str.len().value_counts()"
   ]
  },
  {
   "cell_type": "code",
   "execution_count": 8,
   "metadata": {},
   "outputs": [
    {
     "data": {
      "text/plain": [
       "(196    1-00\n",
       " Name: multi_hr, dtype: object, '00')"
      ]
     },
     "execution_count": 8,
     "metadata": {},
     "output_type": "execute_result"
    }
   ],
   "source": [
    "hasExtra24= a['multi_hr'].str.split('-').str.len() > 1\n",
    "a.loc[hasExtra24,'multi_hr'], a.loc[~hasExtra24,'multi_hr'].iloc[0]"
   ]
  },
  {
   "cell_type": "code",
   "execution_count": 15,
   "metadata": {},
   "outputs": [
    {
     "data": {
      "text/plain": [
       "0.0     295\n",
       "24.0      1\n",
       "Name: extra_hrs, dtype: int64"
      ]
     },
     "execution_count": 15,
     "metadata": {},
     "output_type": "execute_result"
    }
   ],
   "source": [
    "a['extra_hrs']= np.zeros(a.shape[0])\n",
    "a.loc[hasExtra24,'extra_hrs']= 24*a.loc[hasExtra24,'multi_hr'].str.split('-').str[0].astype(float)\n",
    "a['extra_hrs'].value_counts()"
   ]
  },
  {
   "cell_type": "code",
   "execution_count": 16,
   "metadata": {
    "collapsed": true
   },
   "outputs": [],
   "source": [
    "a['hrs']= np.zeros(a.shape[0])\n",
    "# No 01-05, just 05\n",
    "a.loc[~hasExtra24,'hrs']= a.loc[~hasExtra24,'multi_hr'].astype(float)\n",
    "# When 01-05, just take 05\n",
    "a.loc[hasExtra24,'hrs']= a.loc[hasExtra24,'multi_hr'].str.split('-').str[1].astype(float)\n",
    "a.loc[:,'hrs'] +=  a['extra_hrs']"
   ]
  },
  {
   "cell_type": "code",
   "execution_count": 18,
   "metadata": {},
   "outputs": [
    {
     "data": {
      "text/plain": [
       "(196    24.0\n",
       " Name: hrs, dtype: float64, 18.0)"
      ]
     },
     "execution_count": 18,
     "metadata": {},
     "output_type": "execute_result"
    }
   ],
   "source": [
    "a.loc[hasExtra24,'hrs'], a.loc[~hasExtra24,'hrs'].max()"
   ]
  },
  {
   "cell_type": "code",
   "execution_count": 21,
   "metadata": {
    "collapsed": true
   },
   "outputs": [],
   "source": [
    "for col in ['min','sec']:\n",
    "    a.loc[:,col]= a.loc[:,col].astype(float)"
   ]
  },
  {
   "cell_type": "code",
   "execution_count": 37,
   "metadata": {},
   "outputs": [
    {
     "name": "stdout",
     "output_type": "stream",
     "text": [
      "total cpu hours (M): 0.259007426667\n",
      "total MPP hours (M): 0.647518566667\n"
     ]
    }
   ],
   "source": [
    "def cpu_hrs(nodes,h,m,s, mpp=False,cori=True):\n",
    "    \"\"\"\n",
    "    Args:\n",
    "        nodes: number of nodes\n",
    "        h,m,s: hours,min,sec\n",
    "    \"\"\"\n",
    "    cores_per_node=32\n",
    "    if not cori:\n",
    "        cores_per_node=24\n",
    "    mpp_factor= 1.\n",
    "    if mpp:\n",
    "        mpp_factor= 2.5\n",
    "    \n",
    "    return mpp_factor * cores_per_node * nodes * h + m/60. + s/3600.\n",
    "\n",
    "a['cpu_hrs']= cpu_hrs(a['num_nodes'],a['hrs'],a['min'],a['sec'])\n",
    "print('total cpu hours (M):',a['cpu_hrs'].sum()/1e6)\n",
    "print('total MPP hours (M):',a['cpu_hrs'].sum()/1e6*2.5)"
   ]
  },
  {
   "cell_type": "code",
   "execution_count": 38,
   "metadata": {},
   "outputs": [
    {
     "data": {
      "image/png": "[encoded data removed]",
      "text/plain": [
       "<matplotlib.figure.Figure at 0x119ea6898>"
      ]
     },
     "metadata": {},
     "output_type": "display_data"
    }
   ],
   "source": [
    "fig,ax= plt.subplots(2,2,figsize=(6,6))\n",
    "names=['num_nodes','hrs','min','sec']\n",
    "i=0\n",
    "for row in range(2):\n",
    "    for col in range(2):\n",
    "        sns.distplot(a[names[i]],ax=ax[row,col])\n",
    "        i+=1"
   ]
  },
  {
   "cell_type": "markdown",
   "metadata": {
    "collapsed": true
   },
   "source": [
    "# Parse log file for timings"
   ]
  },
  {
   "cell_type": "code",
   "execution_count": 95,
   "metadata": {},
   "outputs": [
    {
     "data": {
      "text/plain": [
       "['/Users/kaylan1/Downloads/logs/n1200_notsorted/logs/115/1158p195/rs0/log.1158p195',\n",
       " '/Users/kaylan1/Downloads/logs/n1200_sorted/logs/115/1158p195/rs0/log.1158p195',\n",
       " '/Users/kaylan1/Downloads/logs/n300_notsorted/logs/115/1158p195/rs0/log.1158p195',\n",
       " '/Users/kaylan1/Downloads/logs/n300_sorted/logs/115/1158p195/rs0/log.1158p195',\n",
       " '/Users/kaylan1/Downloads/logs/n600_notsorted/logs/115/1158p195/rs0/log.1158p195',\n",
       " '/Users/kaylan1/Downloads/logs/n600_sorted/logs/115/1158p195/rs0/log.1158p195']"
      ]
     },
     "execution_count": 95,
     "metadata": {},
     "output_type": "execute_result"
    }
   ],
   "source": [
    "from glob import glob\n",
    "logfns= glob(os.path.join(os.environ['HOME'],'Downloads',\n",
    "                     'logs/*/*/*/*/*'))\n",
    "logfns= [os.path.join(fn,'log.1158p195') \n",
    "         for fn in logfns]\n",
    "logfns"
   ]
  },
  {
   "cell_type": "code",
   "execution_count": 79,
   "metadata": {
    "collapsed": true
   },
   "outputs": [],
   "source": [
    "import re\n",
    "\n",
    "def hours_elapsed_logfn(logfn):\n",
    "    \"\"\"returns hours between starting tims and finishing fitblobs\n",
    "    robust to next day occuring etc.\n",
    "    \"\"\"\n",
    "    with open(logfn,'r') as foo:\n",
    "        text= foo.read()\n",
    "    start= (re.findall(r'Running stage tims at.*?\\n',text)[0]\n",
    "               .split(' ')[-1]\n",
    "               .replace('\\n','')\n",
    "               .split('.')[0]\n",
    "               .replace('T',' ')\n",
    "            )\n",
    "    end= (re.findall(r'Stage fitblobs finished.*?\\n',text)[0]\n",
    "               .split(' ')[-1]\n",
    "               .replace('\\n','')\n",
    "               .split('.')[0]\n",
    "               .replace('T',' ')\n",
    "         )\n",
    "    start= pd.to_datetime(start, format='%Y-%m-%d %H:%M:%S')\n",
    "    end= pd.to_datetime(end, format='%Y-%m-%d %H:%M:%S')\n",
    "    return (end - start).total_seconds()/3600."
   ]
  },
  {
   "cell_type": "code",
   "execution_count": 80,
   "metadata": {},
   "outputs": [
    {
     "data": {
      "text/plain": [
       "[0.5491666666666667,\n",
       " 0.7661111111111111,\n",
       " 0.15861111111111112,\n",
       " 0.2730555555555556,\n",
       " 0.29944444444444446,\n",
       " 0.43444444444444447]"
      ]
     },
     "execution_count": 80,
     "metadata": {},
     "output_type": "execute_result"
    }
   ],
   "source": [
    "dtime= [hours_elapsed_logfn(logfn)\n",
    "        for logfn in logfns]\n",
    "dtime"
   ]
  },
  {
   "cell_type": "code",
   "execution_count": 89,
   "metadata": {},
   "outputs": [
    {
     "name": "stdout",
     "output_type": "stream",
     "text": [
      "              name      time\n",
      "0  n1200_notsorted  0.549167\n",
      "2   n300_notsorted  0.158611\n",
      "4   n600_notsorted  0.299444\n",
      "           name      time\n",
      "1  n1200_sorted  0.766111\n",
      "3   n300_sorted  0.273056\n",
      "5   n600_sorted  0.434444\n"
     ]
    }
   ],
   "source": [
    "df=pd.DataFrame(dict(time=dtime,\n",
    "                  logfns=logfns))\n",
    "df['name']=df['logfns'].str.split('/').str[5]\n",
    "notSorted= df['name'].str.contains('notsorted')\n",
    "print(df.loc[notSorted,['name','time']])\n",
    "print(df.loc[~notSorted,['name','time']])"
   ]
  },
  {
   "cell_type": "code",
   "execution_count": 96,
   "metadata": {},
   "outputs": [
    {
     "data": {
      "text/plain": [
       "['/Users/kaylan1/Downloads/simcats/n1200_notsorted/obiwan/115/1158p195/rs0/simcat-elg-1158p195.fits',\n",
       " '/Users/kaylan1/Downloads/simcats/n1200_sorted/obiwan/115/1158p195/rs0/simcat-elg-1158p195.fits',\n",
       " '/Users/kaylan1/Downloads/simcats/n300_notsorted/obiwan/115/1158p195/rs0/simcat-elg-1158p195.fits',\n",
       " '/Users/kaylan1/Downloads/simcats/n300_sorted/obiwan/115/1158p195/rs0/simcat-elg-1158p195.fits',\n",
       " '/Users/kaylan1/Downloads/simcats/n600_notsorted/obiwan/115/1158p195/rs0/simcat-elg-1158p195.fits',\n",
       " '/Users/kaylan1/Downloads/simcats/n600_sorted/obiwan/115/1158p195/rs0/simcat-elg-1158p195.fits']"
      ]
     },
     "execution_count": 96,
     "metadata": {},
     "output_type": "execute_result"
    }
   ],
   "source": [
    "#simcatfns= glob(os.path.join(os.environ['HOME'],'Downloads',\n",
    "#                     'simcats/*/*/*/*/*'))\n",
    "simcatfns= [(fn.replace('/Downloads/logs','/Downloads/simcats')\n",
    "               .replace('/logs/','/obiwan/')\n",
    "               .replace('log.1158p195','simcat-elg-1158p195.fits'))\n",
    "            for fn in logfns]\n",
    "simcatfns"
   ]
  },
  {
   "cell_type": "code",
   "execution_count": 99,
   "metadata": {},
   "outputs": [
    {
     "data": {
      "text/plain": [
       "[1044, 1133, 266, 300, 526, 587]"
      ]
     },
     "execution_count": 99,
     "metadata": {},
     "output_type": "execute_result"
    }
   ],
   "source": [
    "from astrometry.util.fits import fits_table\n",
    "num_srcs= [len(fits_table(fn))\n",
    "           for fn in simcatfns]\n",
    "num_srcs"
   ]
  },
  {
   "cell_type": "markdown",
   "metadata": {},
   "source": [
    "# 4x number sources takes ~ 3x as long, so beneficial to use more sources\n",
    "* However, at 1200 takes ~ 1 hr and loose ~ 70 overlappers\n",
    "* out of time errors will cose ~ 1 hr, so hurts using more sources\n",
    "* May also run into mem error with more sources\n",
    "\n",
    "### Try 1000 sources"
   ]
  },
  {
   "cell_type": "code",
   "execution_count": 103,
   "metadata": {},
   "outputs": [
    {
     "name": "stdout",
     "output_type": "stream",
     "text": [
      "              name      time  num_srcs\n",
      "0  n1200_notsorted  0.549167      1044\n",
      "2   n300_notsorted  0.158611       266\n",
      "4   n600_notsorted  0.299444       526\n",
      "           name      time  num_srcs\n",
      "1  n1200_sorted  0.766111      1133\n",
      "3   n300_sorted  0.273056       300\n",
      "5   n600_sorted  0.434444       587\n"
     ]
    }
   ],
   "source": [
    "df=pd.DataFrame(dict(time=dtime,\n",
    "                     logfns=logfns,\n",
    "                     num_srcs=num_srcs))\n",
    "df['name']=df['logfns'].str.split('/').str[5]\n",
    "notSorted= df['name'].str.contains('notsorted')\n",
    "print(df.loc[notSorted,['name','time','num_srcs']])\n",
    "print(df.loc[~notSorted,['name','time','num_srcs']])"
   ]
  },
  {
   "cell_type": "code",
   "execution_count": 114,
   "metadata": {},
   "outputs": [
    {
     "name": "stdout",
     "output_type": "stream",
     "text": [
      "              name  time_per_src\n",
      "0  n1200_notsorted      1.893678\n",
      "2   n300_notsorted      2.146617\n",
      "4   n600_notsorted      2.049430\n",
      "           name  time_per_src\n",
      "1  n1200_sorted      2.434245\n",
      "3   n300_sorted      3.276667\n",
      "5   n600_sorted      2.664395\n"
     ]
    }
   ],
   "source": [
    "df['time_per_src']= df['time']/df['num_srcs']*3600\n",
    "print(df.loc[notSorted,['name','time_per_src']])\n",
    "print(df.loc[~notSorted,['name','time_per_src']])"
   ]
  },
  {
   "cell_type": "code",
   "execution_count": 121,
   "metadata": {},
   "outputs": [
    {
     "data": {
      "text/plain": [
       "array([ 1.28545886,  1.52643316,  1.30006669])"
      ]
     },
     "execution_count": 121,
     "metadata": {},
     "output_type": "execute_result"
    }
   ],
   "source": [
    "df.loc[~notSorted,'time_per_src'].values/df.loc[notSorted,'time_per_src'].values"
   ]
  },
  {
   "cell_type": "code",
   "execution_count": 122,
   "metadata": {},
   "outputs": [
    {
     "data": {
      "text/plain": [
       "[<matplotlib.lines.Line2D at 0x116878cc0>]"
      ]
     },
     "execution_count": 122,
     "metadata": {},
     "output_type": "execute_result"
    },
    {
     "data": {
      "image/png": "[encoded data removed]",
      "text/plain": [
       "<matplotlib.figure.Figure at 0x1168f4438>"
      ]
     },
     "metadata": {},
     "output_type": "display_data"
    }
   ],
   "source": [
    "plt.plot([300,600,1200],\n",
    "         df.loc[~notSorted,'time_per_src'].values/df.loc[notSorted,'time_per_src'].values)"
   ]
  },
  {
   "cell_type": "code",
   "execution_count": 40,
   "metadata": {},
   "outputs": [
    {
     "data": {
      "text/plain": [
       "(Timestamp('2017-12-11 12:57:14'), Timestamp('2017-12-11 13:30:11'))"
      ]
     },
     "execution_count": 40,
     "metadata": {},
     "output_type": "execute_result"
    }
   ],
   "source": [
    "start= pd.to_datetime(start, format='%Y-%m-%d %H:%M:%S')\n",
    "end= pd.to_datetime(end, format='%Y-%m-%d %H:%M:%S')\n",
    "start,end"
   ]
  },
  {
   "cell_type": "code",
   "execution_count": 43,
   "metadata": {
    "collapsed": true
   },
   "outputs": [],
   "source": [
    "dt= (end - start)"
   ]
  },
  {
   "cell_type": "code",
   "execution_count": 70,
   "metadata": {},
   "outputs": [
    {
     "data": {
      "text/plain": [
       "1977.0000000000002"
      ]
     },
     "execution_count": 70,
     "metadata": {},
     "output_type": "execute_result"
    }
   ],
   "source": [
    "dt.total_seconds()"
   ]
  },
  {
   "cell_type": "code",
   "execution_count": 51,
   "metadata": {},
   "outputs": [
    {
     "data": {
      "text/plain": [
       "24.016666666666666"
      ]
     },
     "execution_count": 51,
     "metadata": {},
     "output_type": "execute_result"
    }
   ],
   "source": [
    "start= pd.to_datetime('2017-12-11 00:10:10', format='%Y-%m-%d %H:%M:%S')\n",
    "end= pd.to_datetime('2017-12-12 00:11:10', format='%Y-%m-%d %H:%M:%S')\n",
    "(end - start).total_seconds()/3600."
   ]
  },
  {
   "cell_type": "code",
   "execution_count": 53,
   "metadata": {
    "collapsed": true
   },
   "outputs": [],
   "source": [
    "df=pd.DataFrame(dict(start=[start]*4,\n",
    "                     end=[end]*4))"
   ]
  },
  {
   "cell_type": "code",
   "execution_count": 54,
   "metadata": {},
   "outputs": [
    {
     "ename": "AttributeError",
     "evalue": "'Series' object has no attribute 'total_seconds'",
     "output_type": "error",
     "traceback": [
      "\u001b[0;31m---------------------------------------------------------------------------\u001b[0m",
      "\u001b[0;31mAttributeError\u001b[0m                            Traceback (most recent call last)",
      "\u001b[0;32m<ipython-input-54-e77d8e53459f>\u001b[0m in \u001b[0;36m<module>\u001b[0;34m()\u001b[0m\n\u001b[0;32m----> 1\u001b[0;31m \u001b[0;34m(\u001b[0m\u001b[0mdf\u001b[0m\u001b[0;34m[\u001b[0m\u001b[0;34m'start'\u001b[0m\u001b[0;34m]\u001b[0m \u001b[0;34m-\u001b[0m \u001b[0mdf\u001b[0m\u001b[0;34m[\u001b[0m\u001b[0;34m'end'\u001b[0m\u001b[0;34m]\u001b[0m\u001b[0;34m)\u001b[0m\u001b[0;34m.\u001b[0m\u001b[0mtotal_seconds\u001b[0m\u001b[0;34m(\u001b[0m\u001b[0;34m)\u001b[0m\u001b[0;34m\u001b[0m\u001b[0m\n\u001b[0m",
      "\u001b[0;32m~/miniconda3/envs/mlbook/lib/python3.6/site-packages/pandas/core/generic.py\u001b[0m in \u001b[0;36m__getattr__\u001b[0;34m(self, name)\u001b[0m\n\u001b[1;32m   3079\u001b[0m             \u001b[0;32mif\u001b[0m \u001b[0mname\u001b[0m \u001b[0;32min\u001b[0m \u001b[0mself\u001b[0m\u001b[0;34m.\u001b[0m\u001b[0m_info_axis\u001b[0m\u001b[0;34m:\u001b[0m\u001b[0;34m\u001b[0m\u001b[0m\n\u001b[1;32m   3080\u001b[0m                 \u001b[0;32mreturn\u001b[0m \u001b[0mself\u001b[0m\u001b[0;34m[\u001b[0m\u001b[0mname\u001b[0m\u001b[0;34m]\u001b[0m\u001b[0;34m\u001b[0m\u001b[0m\n\u001b[0;32m-> 3081\u001b[0;31m             \u001b[0;32mreturn\u001b[0m \u001b[0mobject\u001b[0m\u001b[0;34m.\u001b[0m\u001b[0m__getattribute__\u001b[0m\u001b[0;34m(\u001b[0m\u001b[0mself\u001b[0m\u001b[0;34m,\u001b[0m \u001b[0mname\u001b[0m\u001b[0;34m)\u001b[0m\u001b[0;34m\u001b[0m\u001b[0m\n\u001b[0m\u001b[1;32m   3082\u001b[0m \u001b[0;34m\u001b[0m\u001b[0m\n\u001b[1;32m   3083\u001b[0m     \u001b[0;32mdef\u001b[0m \u001b[0m__setattr__\u001b[0m\u001b[0;34m(\u001b[0m\u001b[0mself\u001b[0m\u001b[0;34m,\u001b[0m \u001b[0mname\u001b[0m\u001b[0;34m,\u001b[0m \u001b[0mvalue\u001b[0m\u001b[0;34m)\u001b[0m\u001b[0;34m:\u001b[0m\u001b[0;34m\u001b[0m\u001b[0m\n",
      "\u001b[0;31mAttributeError\u001b[0m: 'Series' object has no attribute 'total_seconds'"
     ]
    }
   ],
   "source": [
    "(df['start'] - df['end']).total_seconds()"
   ]
  },
  {
   "cell_type": "markdown",
   "metadata": {},
   "source": [
    "# number of tractor tables a given slurm file was able to make"
   ]
  },
  {
   "cell_type": "code",
   "execution_count": 125,
   "metadata": {
    "collapsed": true
   },
   "outputs": [],
   "source": [
    "from glob import glob\n",
    "fn= os.path.join(os.environ['HOME'],'Downloads',\n",
    "                     'slurm-8934400.out')\n",
    "with open(fn,'r') as foo:\n",
    "    text= foo.read()\n",
    "start= (re.findall(r'Logging to:.*?\\n',text)[0]\n",
    "           .split(' ')[-1]\n",
    "           .replace('\\n','')\n",
    "           .split('.')[0]\n",
    "           .replace('T',' ')\n",
    "        )"
   ]
  },
  {
   "cell_type": "code",
   "execution_count": 142,
   "metadata": {
    "collapsed": true
   },
   "outputs": [],
   "source": [
    "def add_fits(text):\n",
    "    return text+'.fits'\n",
    "\n",
    "def trac_fns(slurm_fn):\n",
    "    with open(slurm_fn,'r') as foo:\n",
    "        text= foo.read()\n",
    "    return (pd.Series(re.findall(r'Logging to:.*?\\n',text))\n",
    "             .str.replace(r'Logging to:\\s','')\n",
    "             .str.strip()\n",
    "             .str.replace('logs','tractor')\n",
    "             .str.replace(r'log\\.','tractor-')\n",
    "             .apply(add_fits)\n",
    "            ).values\n",
    "\n",
    "a=trac_fns(fn)"
   ]
  },
  {
   "cell_type": "code",
   "execution_count": 144,
   "metadata": {},
   "outputs": [
    {
     "data": {
      "text/plain": [
       "'/global/cscratch1/sd/kaylanb/obiwan_out/elg_dr5/tractor/112/1127p272/rs0/tractor-1127p272.fits'"
      ]
     },
     "execution_count": 144,
     "metadata": {},
     "output_type": "execute_result"
    }
   ],
   "source": [
    "]"
   ]
  },
  {
   "cell_type": "code",
   "execution_count": null,
   "metadata": {
    "collapsed": true
   },
   "outputs": [],
   "source": []
  }
 ],
 "metadata": {
  "kernelspec": {
   "display_name": "Python 3",
   "language": "python",
   "name": "python3"
  },
  "language_info": {
   "codemirror_mode": {
    "name": "ipython",
    "version": 3
   },
   "file_extension": ".py",
   "mimetype": "text/x-python",
   "name": "python",
   "nbconvert_exporter": "python",
   "pygments_lexer": "ipython3",
   "version": "3.6.2"
  }
 },
 "nbformat": 4,
 "nbformat_minor": 2
}
